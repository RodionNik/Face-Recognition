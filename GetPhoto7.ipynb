{
 "cells": [
  {
   "cell_type": "markdown",
   "metadata": {},
   "source": [
    "# For to save a facerognition person to jpg file"
   ]
  },
  {
   "cell_type": "code",
   "execution_count": null,
   "metadata": {},
   "outputs": [],
   "source": [
    "import cv2\n",
    "import numpy as np\n",
    "from PIL import Image\n",
    "import datetime\n",
    "import time\n",
    "from func_face import *\n",
    "#startY, startX,  endY,  endX"
   ]
  },
  {
   "cell_type": "code",
   "execution_count": null,
   "metadata": {},
   "outputs": [],
   "source": [
    "#save to directory\n",
    "patch_save = r\"C:\\Users\\user\\Documents\\IN\\Camera\""
   ]
  },
  {
   "cell_type": "code",
   "execution_count": null,
   "metadata": {},
   "outputs": [],
   "source": [
    "#save recognition face\n",
    "def save_pict(pict):\n",
    "    delim='_'\n",
    "    pic = Image.fromarray(pict)\n",
    "    dt = datetime.datetime.now()\n",
    "    name_file = str(dt.year)+delim+str(dt.month)+delim+str(dt.day)+delim+str(dt.hour)+delim+str(dt.minute)+delim+str(dt.second)+delim+str(dt.microsecond)+'.jpg'\n",
    "    pic.save(patch_save+'\\\\'+name_file, \"JPEG\")\n",
    "    return name_file"
   ]
  },
  {
   "cell_type": "code",
   "execution_count": null,
   "metadata": {},
   "outputs": [],
   "source": [
    "link = 'rtsp://rtsp_stream:$tream75@<IP address>:554/ISAPI/Streaming/Channels/701'\n",
    "stream = cv2.VideoCapture(link)\n",
    "\n",
    "while True:\n",
    "    \n",
    "    #ret, video = stream.read()\n",
    "    for i in range(15):\n",
    "        stream.grab()\n",
    "    ret, video = stream.retrieve() \n",
    "    \n",
    "   \n",
    "    if not ret:\n",
    "        time.sleep(30)\n",
    "        stream.release()\n",
    "        cv2.destroyAllWindows() \n",
    "        stream = cv2.VideoCapture(link)\n",
    "        continue\n",
    "    \n",
    "    #video = video[220:600,600:950] hikvision\n",
    "    #video = video[150:450,600:900] secondary stream\n",
    "    video = video[250:650,900:1300]\n",
    "\n",
    "    xy = face_detect_dl(video)\n",
    "\n",
    "    if len(xy)>0: \n",
    "        \n",
    "        save_pict(video) \n",
    "        \n",
    "    if cv2.waitKey(1) & 0xFF == ord('q'):\n",
    "        break\n",
    "\n",
    "    cv2.imshow(\"Camera 7\",video) \n",
    "    #stream.grab()\n",
    "    #stream.release()\n",
    "        \n",
    "stream.release()\n",
    "cv2.destroyAllWindows() "
   ]
  },
  {
   "cell_type": "code",
   "execution_count": null,
   "metadata": {},
   "outputs": [],
   "source": [
    "video.shape"
   ]
  },
  {
   "cell_type": "code",
   "execution_count": null,
   "metadata": {},
   "outputs": [],
   "source": [
    "stream.release()\n",
    "cv2.destroyAllWindows() "
   ]
  },
  {
   "cell_type": "code",
   "execution_count": null,
   "metadata": {},
   "outputs": [],
   "source": []
  },
  {
   "cell_type": "code",
   "execution_count": null,
   "metadata": {},
   "outputs": [],
   "source": [
    "t1 = time.time()\n",
    "link = 'rtsp://rtsp_stream:$tream75@<IP address>:554/ISAPI/Streaming/Channels/701'\n",
    "stream = cv2.VideoCapture(link)\n",
    "for i in range(50):\n",
    "    stream.grab()\n",
    "    ret, video = stream.retrieve()\n",
    "    save_pict(video) \n",
    "\n",
    "stream.release()\n",
    "cv2.destroyAllWindows() \n",
    "    \n",
    "print(time.time()-t1)"
   ]
  },
  {
   "cell_type": "code",
   "execution_count": null,
   "metadata": {},
   "outputs": [],
   "source": [
    "t1 = time.time()\n",
    "link = 'rtsp://rtsp_stream:$tream75@<IP address>:554/ISAPI/Streaming/Channels/101'\n",
    "stream = cv2.VideoCapture(link)\n",
    "for i in range(50):\n",
    "    stream.grab()\n",
    "    ret, video = stream.retrieve()\n",
    "    save_pict(video) \n",
    "\n",
    "stream.release()\n",
    "cv2.destroyAllWindows() \n",
    "    \n",
    "print(time.time()-t1)"
   ]
  },
  {
   "cell_type": "code",
   "execution_count": null,
   "metadata": {},
   "outputs": [],
   "source": [
    "stream.release()\n",
    "cv2.destroyAllWindows() "
   ]
  },
  {
   "cell_type": "code",
   "execution_count": null,
   "metadata": {},
   "outputs": [],
   "source": []
  },
  {
   "cell_type": "code",
   "execution_count": null,
   "metadata": {},
   "outputs": [],
   "source": []
  },
  {
   "cell_type": "code",
   "execution_count": null,
   "metadata": {},
   "outputs": [],
   "source": []
  },
  {
   "cell_type": "code",
   "execution_count": null,
   "metadata": {},
   "outputs": [],
   "source": []
  },
  {
   "cell_type": "code",
   "execution_count": null,
   "metadata": {},
   "outputs": [],
   "source": []
  },
  {
   "cell_type": "code",
   "execution_count": null,
   "metadata": {},
   "outputs": [],
   "source": []
  }
 ],
 "metadata": {
  "kernelspec": {
   "display_name": "Python 3",
   "language": "python",
   "name": "python3"
  },
  "language_info": {
   "codemirror_mode": {
    "name": "ipython",
    "version": 3
   },
   "file_extension": ".py",
   "mimetype": "text/x-python",
   "name": "python",
   "nbconvert_exporter": "python",
   "pygments_lexer": "ipython3",
   "version": "3.8.8"
  }
 },
 "nbformat": 4,
 "nbformat_minor": 2
}
