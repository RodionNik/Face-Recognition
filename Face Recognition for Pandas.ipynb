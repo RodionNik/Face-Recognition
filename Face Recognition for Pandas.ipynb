{
 "cells": [
  {
   "cell_type": "code",
   "execution_count": 1,
   "metadata": {},
   "outputs": [],
   "source": [
    "import cv2\n",
    "from func_face import face_detect_dl\n",
    "import face_recognition\n",
    "import pickle\n",
    "from imutils import paths\n",
    "from PIL import Image\n",
    "import datetime\n",
    "import os\n",
    "import pandas as pd\n",
    "import time\n",
    "import shutil"
   ]
  },
  {
   "cell_type": "code",
   "execution_count": 2,
   "metadata": {},
   "outputs": [],
   "source": [
    "data = pickle.loads(open(r'C:\\Users\\user\\Documents\\09.Python\\Face Recognition (My)\\encodings.pickle', \"rb\").read())"
   ]
  },
  {
   "cell_type": "code",
   "execution_count": 3,
   "metadata": {},
   "outputs": [],
   "source": [
    "from_p = r'C:\\Users\\user\\Documents\\08. Data_IN\\Camera'\n",
    "csv_file = r'C:\\Users\\user\\Documents\\08. Data_IN\\face_recog.csv'\n",
    "to_p   = r'C:\\Users\\user\\Documents\\08. Data_IN\\DB_Rocognition'\n",
    "imagePaths = list(paths.list_images(from_p))"
   ]
  },
  {
   "cell_type": "code",
   "execution_count": 4,
   "metadata": {},
   "outputs": [],
   "source": [
    "columns=['DateTime','Name', 'Camera', 'Path']\n",
    "df = pd.DataFrame(columns = columns)"
   ]
  },
  {
   "cell_type": "markdown",
   "metadata": {},
   "source": [
    "# Functions"
   ]
  },
  {
   "cell_type": "code",
   "execution_count": 5,
   "metadata": {},
   "outputs": [],
   "source": [
    "def convert_xy(boxes):\n",
    "    ls=[]\n",
    "    for b in boxes:\n",
    "        (startY, startX,  endY,  endX) = b\n",
    "        ls.append((startY, endX, endY, startX))\n",
    "        \n",
    "    return ls "
   ]
  },
  {
   "cell_type": "code",
   "execution_count": 6,
   "metadata": {},
   "outputs": [],
   "source": [
    "def check_xy(img, xy):\n",
    "    startY, endX, endY, startX = xy\n",
    "    h = img.shape[0]\n",
    "    w = img.shape[1]\n",
    "    if (startY>h) | (endY>h) | (startX>w) | (endX>w):\n",
    "        return True\n",
    "    else:\n",
    "        return False  "
   ]
  },
  {
   "cell_type": "code",
   "execution_count": 7,
   "metadata": {},
   "outputs": [],
   "source": [
    "def recgnize(image, boxes, tol=0.45 ):\n",
    "    #rgb = cv2.cvtColor(image, cv2.COLOR_BGR2RGB)\n",
    "    \n",
    "    encodings = face_recognition.face_encodings(image, boxes)\n",
    "    names = []\n",
    "    for encoding in encodings:\n",
    "        matches = face_recognition.compare_faces(data[\"encodings\"],\n",
    "                                                 encoding,tolerance=tol)\n",
    "        name = \"Unknown\"\n",
    "        \n",
    "        if True in matches:\n",
    "            #print(matches,'\\n')\n",
    "            matchedIdxs = [i for (i, b) in enumerate(matches) if b]\n",
    "            #print(matchedIdxs)\n",
    "            counts = {}\n",
    "            for i in matchedIdxs:\n",
    "                name = data[\"names\"][i]\n",
    "                #print(name)\n",
    "                counts[name] = counts.get(name, 0)+1\n",
    "            name = max(counts, key=counts.get)\n",
    "            #print(counts)\n",
    "        names.append(name)\n",
    "    \n",
    "    return names"
   ]
  },
  {
   "cell_type": "code",
   "execution_count": 8,
   "metadata": {},
   "outputs": [],
   "source": [
    "def save_pic(jmage, patch, imagePath):\n",
    "    \n",
    "    name_f = imagePath.split(os.path.sep)[-1]\n",
    "    \n",
    "    delim='_'\n",
    "    pic = Image.fromarray(jmage)\n",
    "    dt = datetime.datetime.now()\n",
    "    name_file = '\\\\' + name_f #+ str(dt.year)+delim+str(dt.month)+delim+str(dt.day)+delim+str(dt.hour)+delim+str(dt.minute)+delim+str(dt.second)+delim+str(dt.microsecond)+'.jpg'\n",
    "    \n",
    "    try:\n",
    "        pic.save(patch+name_file, \"JPEG\")  \n",
    "    except:\n",
    "        os.mkdir(patch)\n",
    "        pic.save(patch+name_file, \"JPEG\")\n",
    "        \n",
    "    return patch+name_file"
   ]
  },
  {
   "cell_type": "code",
   "execution_count": 9,
   "metadata": {},
   "outputs": [],
   "source": [
    "def prepere_pack(imagePaths):\n",
    "    lab_save = []\n",
    "    for imagePath in imagePaths:\n",
    "        img_unk = cv2.imread(imagePath)\n",
    "        rgb_unk = cv2.cvtColor(img_unk, cv2.COLOR_BGR2RGB)\n",
    "        \n",
    "        box_my = face_detect_dl(rgb_unk)\n",
    "        box = convert_xy(box_my) \n",
    "        names = recgnize(rgb_unk,box,0.5)\n",
    "        \n",
    "        for ((startY, endX, endY, startX), name) in zip(box, names):\n",
    "            \n",
    "            patch_to = to_p + '\\\\' + name \n",
    "            if (name == 'Unknown') & (imagePath == imagePaths[len(imagePaths)-1]):\n",
    "                img_unkown = cv2.imread(imagePaths[len(imagePaths)//2])\n",
    "                rgb_unkown = cv2.cvtColor(img_unkown, cv2.COLOR_BGR2RGB)\n",
    "                p = save_pic(rgb_unkown, patch_to, imagePaths[len(imagePaths)//2])\n",
    "                continue\n",
    "            elif name == 'Unknown':\n",
    "                continue\n",
    "                \n",
    "            cv2.rectangle(rgb_unk, (startX, startY), (endX, endY),(0, 0, 255), 2)\n",
    "            y = startY - 15 if startY - 15 > 15 else startY + 15\n",
    "            cv2.putText(rgb_unk, name, (startX, y), cv2.FONT_HERSHEY_SIMPLEX, 0.75, (0, 255, 0), 2)\n",
    "            \n",
    "            if lab_save.count(name)==0:\n",
    "                p = save_pic(rgb_unk, patch_to, imagePath) \n",
    "                lab_save.append(name)    \n",
    "    "
   ]
  },
  {
   "cell_type": "code",
   "execution_count": 10,
   "metadata": {},
   "outputs": [],
   "source": [
    "from_p = r'C:\\Users\\user\\Documents\\08. Data_IN\\Camera\\test'\n",
    "#imagePaths = list(paths.list_images(from_p))"
   ]
  },
  {
   "cell_type": "code",
   "execution_count": 12,
   "metadata": {},
   "outputs": [
    {
     "name": "stdout",
     "output_type": "stream",
     "text": [
      "31.46770429611206\n"
     ]
    }
   ],
   "source": [
    "t0 = time.time()\n",
    "i=0\n",
    "path_pkg = from_p+ '\\\\pack'\n",
    "while os.path.exists(path_pkg+str(i)):\n",
    "    PkgPaths = list(paths.list_images(path_pkg+str(i)))\n",
    "    prepere_pack(PkgPaths)\n",
    "    #print(path_pkg+str(i),' - готов')\n",
    "    shutil.rmtree(path_pkg+str(i))\n",
    "    i+=1 \n",
    "    \n",
    "print (time.time()-t0)"
   ]
  },
  {
   "cell_type": "code",
   "execution_count": 11,
   "metadata": {},
   "outputs": [],
   "source": [
    "with open(csv_file, 'a+') as file:\n",
    "    df.to_csv(file,index =False, header = None)"
   ]
  },
  {
   "cell_type": "code",
   "execution_count": 219,
   "metadata": {},
   "outputs": [],
   "source": [
    "(r'C:\\Users\\user\\Documents\\08. Data_IN\\Camera\\test\\pack54')"
   ]
  },
  {
   "cell_type": "code",
   "execution_count": 216,
   "metadata": {},
   "outputs": [],
   "source": []
  },
  {
   "cell_type": "code",
   "execution_count": null,
   "metadata": {},
   "outputs": [],
   "source": []
  },
  {
   "cell_type": "code",
   "execution_count": null,
   "metadata": {},
   "outputs": [],
   "source": []
  },
  {
   "cell_type": "code",
   "execution_count": null,
   "metadata": {},
   "outputs": [],
   "source": []
  },
  {
   "cell_type": "code",
   "execution_count": null,
   "metadata": {},
   "outputs": [],
   "source": []
  },
  {
   "cell_type": "code",
   "execution_count": null,
   "metadata": {},
   "outputs": [],
   "source": []
  },
  {
   "cell_type": "markdown",
   "metadata": {},
   "source": [
    "# Next code was moved to function"
   ]
  },
  {
   "cell_type": "code",
   "execution_count": 166,
   "metadata": {},
   "outputs": [
    {
     "data": {
      "text/plain": [
       "['Unknown']"
      ]
     },
     "execution_count": 166,
     "metadata": {},
     "output_type": "execute_result"
    }
   ],
   "source": [
    "t0 = time.time()\n",
    "lab_save = []\n",
    "for imagePath in imagePaths:\n",
    "    img_unk = cv2.imread(imagePath)\n",
    "    rgb_unk = cv2.cvtColor(img_unk, cv2.COLOR_BGR2RGB)\n",
    "        \n",
    "    box_my = face_detect_dl(rgb_unk)\n",
    "    box = convert_xy(box_my)   \n",
    "    #rgb_unk = cv2.fastNlMeansDenoisingColored(rgb_unk,None,3,3,7,21)\n",
    "    names = recgnize(rgb_unk,box,0.5)\n",
    "    #print(names)\n",
    "\n",
    "    \n",
    "    for ((startY, endX, endY, startX), name) in zip(box, names):\n",
    "        \n",
    "        #if check_xy(rgb_unk, (startY, endX, endY, startX)):\n",
    "        #    continue  \n",
    "          \n",
    "        patch_to = to_p + '\\\\' + name \n",
    "        \n",
    "        if (name == 'Unknown') & (imagePath == imagePaths[len(imagePaths)-1]):\n",
    "            img_unkown = cv2.imread(imagePaths[len(imagePaths)//2])\n",
    "            rgb_unkown = cv2.cvtColor(img_unkown, cv2.COLOR_BGR2RGB)\n",
    "            p = save_pic(rgb_unkown, patch_to, imagePaths[len(imagePaths)//2])\n",
    "            continue\n",
    "        elif name == 'Unknown':\n",
    "            continue\n",
    "            \n",
    "        \n",
    "        cv2.rectangle(rgb_unk, (startX, startY), (endX, endY),(0, 0, 255), 2)\n",
    "        y = startY - 15 if startY - 15 > 15 else startY + 15\n",
    "        cv2.putText(rgb_unk, name, (startX, y), cv2.FONT_HERSHEY_SIMPLEX, 0.75, (0, 255, 0), 2)\n",
    "        #cv2.putText(rgb_unk, str(endY - startY) + ' X ' + str(endX-startX), (endX, endY), cv2.FONT_HERSHEY_SIMPLEX, 0.75, (0, 255, 0), 2)\n",
    "        if lab_save.count(name)==0:\n",
    "            p = save_pic(rgb_unk, patch_to, imagePath)  \n",
    "            lab_save.append(name)\n",
    "        #elif names.count('Unknown') > 0:\n",
    "        #    p = save_pic(rgb_unk, patch_to, imagePath)\n",
    "            \n",
    "        \n",
    "        \n",
    "        #запись в DataFrame\n",
    "        \n",
    "        name_camera = imagePath.split(os.path.sep)[-2]\n",
    "        name_file = imagePath.split(os.path.sep)[-1]\n",
    "        dt = name_file.split('_')[:6]\n",
    "        dt = list(map(int, dt))\n",
    "        dt = pd.datetime(dt[0],dt[1],dt[2],dt[3],dt[4],dt[5])\n",
    "        \n",
    "        df.loc[len(df)] = {'DateTime':str(dt),\n",
    "                           'Name':name,\n",
    "                           'Camera':name_camera,\n",
    "                           'Path':p            \n",
    "                          }\n",
    "    #os.remove(imagePath)\n",
    "        \n",
    "df.sort_values('DateTime', inplace = True)   \n",
    "\n",
    "print (time.time()-t0)"
   ]
  },
  {
   "cell_type": "code",
   "execution_count": 157,
   "metadata": {},
   "outputs": [],
   "source": []
  },
  {
   "cell_type": "code",
   "execution_count": null,
   "metadata": {},
   "outputs": [],
   "source": []
  },
  {
   "cell_type": "code",
   "execution_count": null,
   "metadata": {},
   "outputs": [],
   "source": []
  }
 ],
 "metadata": {
  "kernelspec": {
   "display_name": "Python 3",
   "language": "python",
   "name": "python3"
  },
  "language_info": {
   "codemirror_mode": {
    "name": "ipython",
    "version": 3
   },
   "file_extension": ".py",
   "mimetype": "text/x-python",
   "name": "python",
   "nbconvert_exporter": "python",
   "pygments_lexer": "ipython3",
   "version": "3.6.5"
  }
 },
 "nbformat": 4,
 "nbformat_minor": 2
}
