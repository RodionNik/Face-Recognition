{
 "cells": [
  {
   "cell_type": "code",
   "execution_count": 1,
   "metadata": {},
   "outputs": [],
   "source": [
    "from func_face import *\n",
    "import os\n",
    "import cv2\n",
    "from PIL import Image\n",
    "import datetime\n",
    "from imutils import paths"
   ]
  },
  {
   "cell_type": "code",
   "execution_count": 2,
   "metadata": {},
   "outputs": [],
   "source": [
    "#name directoty whith samples\n",
    "dataset = 'database'\n",
    "\n",
    "#name directory for a recognition face\n",
    "encoding_face = 'encoding_face/'"
   ]
  },
  {
   "cell_type": "code",
   "execution_count": 3,
   "metadata": {},
   "outputs": [],
   "source": [
    "def save_face(xy, jmage, patch_name):\n",
    "    \n",
    "    if check_xy(jmage, xy):\n",
    "        return\n",
    "    \n",
    "    delim='_'\n",
    "    startY, startX,  endY,  endX = xy\n",
    "    pic = Image.fromarray(jmage[startY:endY,startX:endX])\n",
    "\n",
    "    dt = datetime.datetime.now()\n",
    "    name_file = str(dt.year)+delim+str(dt.month)+delim+str(dt.day)+delim+str(dt.hour)+delim+str(dt.minute)+delim+str(dt.second)+delim+str(dt.microsecond)+'.jpg'\n",
    "    if os.path.exists(patch_name):\n",
    "        pic.save(patch_name+name_file, \"JPEG\")  \n",
    "    else:\n",
    "        os.mkdir(patch_name)\n",
    "        pic.save(patch_name+name_file, \"JPEG\")  "
   ]
  },
  {
   "cell_type": "code",
   "execution_count": 4,
   "metadata": {},
   "outputs": [],
   "source": [
    "def check_xy(img, xy):\n",
    "    startY, startX,  endY,  endX = xy\n",
    "    h = img.shape[0]\n",
    "    w = img.shape[1]\n",
    "    if (startY>h) | (endY>h) | (startX>w) | (endX>w):\n",
    "        return True\n",
    "    else:\n",
    "        return False  "
   ]
  },
  {
   "cell_type": "markdown",
   "metadata": {},
   "source": [
    "# recognition and save files in loop"
   ]
  },
  {
   "cell_type": "code",
   "execution_count": 6,
   "metadata": {},
   "outputs": [
    {
     "name": "stdout",
     "output_type": "stream",
     "text": [
      "Несколько лиц:  Agabekova\n",
      "Несколько лиц:  Anton\n",
      "Несколько лиц:  Baryshev Dmitriy\n",
      "Несколько лиц:  Didenko\n",
      "Несколько лиц:  Didenko\n",
      "Несколько лиц:  Didenko\n",
      "Несколько лиц:  Filipova\n",
      "Несколько лиц:  Ivanov V\n",
      "Несколько лиц:  Ivanova E\n",
      "Несколько лиц:  Kochura\n",
      "Несколько лиц:  Konovalov Dmitriy\n",
      "Несколько лиц:  Konovalov Dmitriy\n",
      "Несколько лиц:  Konovalov Dmitriy\n",
      "Несколько лиц:  Konovalov Dmitriy\n",
      "Несколько лиц:  Konovalov Vadim\n",
      "Несколько лиц:  Korobejnikov\n",
      "Несколько лиц:  Korobejnikov\n",
      "Несколько лиц:  Korobejnikov\n",
      "Несколько лиц:  Korobejnikov\n",
      "Несколько лиц:  Kuchevskiy\n",
      "Несколько лиц:  Kuchevskiy\n",
      "Несколько лиц:  Kukoev\n",
      "Несколько лиц:  Kurbakova\n",
      "Несколько лиц:  Kurbakova\n",
      "Несколько лиц:  Kurbakova\n",
      "Несколько лиц:  Kurbakova\n",
      "Несколько лиц:  Kurbakova\n",
      "Несколько лиц:  Kurbakova\n",
      "Несколько лиц:  Kurbakova\n",
      "Несколько лиц:  Kvasovarova\n",
      "Несколько лиц:  Kvasovarova\n",
      "Несколько лиц:  Lobanov\n",
      "Несколько лиц:  Maksakov\n",
      "Несколько лиц:  Maksimova\n",
      "Несколько лиц:  Manicheva\n",
      "Несколько лиц:  Medinskaya\n",
      "Несколько лиц:  Mohir\n",
      "Несколько лиц:  Pahomova\n",
      "Несколько лиц:  Pahomova\n",
      "Несколько лиц:  Pahomova\n",
      "Несколько лиц:  Pahomova\n",
      "Несколько лиц:  Pahomova\n",
      "Несколько лиц:  Panga\n",
      "Несколько лиц:  Polovnikov\n",
      "Несколько лиц:  Polovnikov\n",
      "Несколько лиц:  Polovnikov\n",
      "Несколько лиц:  Polovnikov\n",
      "Несколько лиц:  Pozhedanova\n",
      "Несколько лиц:  Pozhedanova\n",
      "Несколько лиц:  Pozhedanova\n",
      "Несколько лиц:  Pozhedanova\n",
      "Несколько лиц:  Ripa Sergey\n",
      "Несколько лиц:  Romanova\n",
      "Несколько лиц:  Romanova\n",
      "Несколько лиц:  Romanova\n",
      "Несколько лиц:  Romanova\n",
      "Несколько лиц:  Romanova\n",
      "Несколько лиц:  Rustam\n",
      "Несколько лиц:  Ryabish\n",
      "Несколько лиц:  Sashkov\n",
      "Несколько лиц:  Sataradze\n",
      "Несколько лиц:  Schanina\n",
      "Несколько лиц:  Shakshapaev\n",
      "Несколько лиц:  Sharnenkova\n",
      "Несколько лиц:  Sharnenkova\n",
      "Несколько лиц:  Sharnenkova\n",
      "Несколько лиц:  Sharnenkova\n",
      "Несколько лиц:  Sharnenkova\n",
      "Несколько лиц:  Sharova\n",
      "Несколько лиц:  Shishkin\n",
      "Несколько лиц:  Skulditskiy\n",
      "Несколько лиц:  Smirnova\n",
      "Несколько лиц:  Smirnova\n",
      "Несколько лиц:  Smirnova\n",
      "Несколько лиц:  Soboleva\n",
      "Несколько лиц:  Soboleva\n",
      "Несколько лиц:  Suhanov\n",
      "Несколько лиц:  Suhanov\n",
      "Несколько лиц:  Suhanov\n",
      "Несколько лиц:  Talantov\n",
      "Несколько лиц:  Timofeeva\n",
      "Несколько лиц:  Timofeeva\n",
      "Несколько лиц:  Trofimenko\n",
      "Несколько лиц:  Valechik\n",
      "Несколько лиц:  Vechkasova\n",
      "Несколько лиц:  Vechkasova\n",
      "Несколько лиц:  Viktorov\n",
      "Несколько лиц:  Yakovleva\n",
      "Несколько лиц:  Yakovleva\n",
      "Несколько лиц:  Zajcev\n",
      "Несколько лиц:  Zdanovich\n",
      "Несколько лиц:  Zdanovich\n",
      "Несколько лиц:  Zdanovich\n",
      "Несколько лиц:  Zdanovich\n",
      "Несколько лиц:  Zdanovich\n",
      "Несколько лиц:  Zhuchkov\n",
      "Несколько лиц:  Zolnikov\n",
      "Несколько лиц:  Zubko Alexey\n"
     ]
    }
   ],
   "source": [
    "imagePaths = list(paths.list_images(dataset))\n",
    "for imagePath in imagePaths:\n",
    "    \n",
    "    img = cv2.imread(imagePath)\n",
    "    if imagePath.split(os.path.sep)[-1][-3:] == 'png':\n",
    "        rgb = img\n",
    "    else:\n",
    "        rgb = cv2.cvtColor(img, cv2.COLOR_BGR2RGB)\n",
    "\n",
    "    box = face_detect_dl(rgb)\n",
    "    #box = face_recognition.face_locations(img)\n",
    "    if len(box)>1:\n",
    "        print(\"Несколько лиц: \", imagePath.split(os.path.sep)[-2])\n",
    "    p = encoding_face+ imagePath.split(os.path.sep)[-2]+'/'\n",
    "    for i in range(len(box)):\n",
    "        #(startY, endX, endY, startX) = box[i] #for detection face\n",
    "        #xy = (startY, startX,  endY,  endX)   #face_recognition.face_locations\n",
    "        xy = box[i]\n",
    "        save_face(xy, img, p) "
   ]
  },
  {
   "cell_type": "markdown",
   "metadata": {},
   "source": [
    "# recognition and save files by pieces"
   ]
  },
  {
   "cell_type": "code",
   "execution_count": 6,
   "metadata": {},
   "outputs": [],
   "source": [
    "Name_face = 'Konovalov Vadim'\n",
    "Name_file = '2019_7_4_14_35_18_853944.jpg'\n",
    "patch_from = dataset+'/' + Name_face + '/' + Name_file\n",
    "patch_to = encoding_face + '/' + Name_face\n",
    "if not os.path.exists(patch_to):\n",
    "    os.mkdir(patch_to)"
   ]
  },
  {
   "cell_type": "code",
   "execution_count": 7,
   "metadata": {},
   "outputs": [],
   "source": [
    "img = cv2.imread(patch_from)\n",
    "rgb = cv2.cvtColor(img, cv2.COLOR_BGR2RGB)\n",
    "hsv = cv2.cvtColor(img, cv2.COLOR_HSV2RGB)"
   ]
  },
  {
   "cell_type": "code",
   "execution_count": 8,
   "metadata": {},
   "outputs": [],
   "source": [
    "cv2.imshow(\"Frame\", rgb)\n",
    "key = cv2.waitKey(0) \n",
    "cv2.destroyAllWindows()"
   ]
  },
  {
   "cell_type": "code",
   "execution_count": 9,
   "metadata": {},
   "outputs": [],
   "source": [
    "#saving one or more face\n",
    "boxes = face_detect_dl(rgb)\n",
    "for i in range(len(boxes)):\n",
    "    xy = boxes[i]\n",
    "    save_face(xy, img, patch_to+'/')  "
   ]
  },
  {
   "cell_type": "markdown",
   "metadata": {},
   "source": [
    "# review photo"
   ]
  },
  {
   "cell_type": "code",
   "execution_count": 5,
   "metadata": {},
   "outputs": [],
   "source": [
    "img = cv2.imread(r'C:\\Users\\user\\Documents\\08. Data_IN\\DB_Rocognition\\Unknown\\2019_7_11_10_4_5_304089.jpg')\n",
    "rgb = cv2.cvtColor(img, cv2.COLOR_BGR2RGB)"
   ]
  },
  {
   "cell_type": "code",
   "execution_count": 7,
   "metadata": {},
   "outputs": [
    {
     "data": {
      "text/plain": [
       "True"
      ]
     },
     "execution_count": 7,
     "metadata": {},
     "output_type": "execute_result"
    }
   ],
   "source": [
    "check_xy(img, (757, 652, 1017, 842))"
   ]
  },
  {
   "cell_type": "code",
   "execution_count": 11,
   "metadata": {},
   "outputs": [],
   "source": [
    "cv2.imshow(\"Frame\", rgb)\n",
    "key = cv2.waitKey(0) \n",
    "cv2.destroyAllWindows()"
   ]
  },
  {
   "cell_type": "code",
   "execution_count": null,
   "metadata": {},
   "outputs": [],
   "source": [
    "#box = face_recognition.face_locations(img)\n",
    "box = face_detect_dl(img)"
   ]
  },
  {
   "cell_type": "code",
   "execution_count": null,
   "metadata": {},
   "outputs": [],
   "source": [
    "box"
   ]
  },
  {
   "cell_type": "code",
   "execution_count": null,
   "metadata": {},
   "outputs": [],
   "source": [
    "#(top, right, bottom, left) = box[0]\n",
    "(startY, endX, endY, startX) = box[0]"
   ]
  },
  {
   "cell_type": "code",
   "execution_count": null,
   "metadata": {},
   "outputs": [],
   "source": [
    "xy = (startY, startX,  endY,  endX)\n",
    "xy"
   ]
  },
  {
   "cell_type": "code",
   "execution_count": null,
   "metadata": {},
   "outputs": [],
   "source": [
    "save_face(xy, img, p)"
   ]
  },
  {
   "cell_type": "code",
   "execution_count": null,
   "metadata": {},
   "outputs": [],
   "source": [
    "img.shape"
   ]
  },
  {
   "cell_type": "code",
   "execution_count": null,
   "metadata": {},
   "outputs": [],
   "source": [
    "Image.fromarray(img[startY:endY,startX:endX])"
   ]
  },
  {
   "cell_type": "code",
   "execution_count": null,
   "metadata": {},
   "outputs": [],
   "source": []
  },
  {
   "cell_type": "code",
   "execution_count": null,
   "metadata": {},
   "outputs": [],
   "source": []
  },
  {
   "cell_type": "code",
   "execution_count": null,
   "metadata": {},
   "outputs": [],
   "source": []
  },
  {
   "cell_type": "code",
   "execution_count": null,
   "metadata": {},
   "outputs": [],
   "source": []
  },
  {
   "cell_type": "code",
   "execution_count": null,
   "metadata": {},
   "outputs": [],
   "source": []
  },
  {
   "cell_type": "code",
   "execution_count": null,
   "metadata": {},
   "outputs": [],
   "source": []
  },
  {
   "cell_type": "code",
   "execution_count": null,
   "metadata": {},
   "outputs": [],
   "source": []
  },
  {
   "cell_type": "code",
   "execution_count": null,
   "metadata": {},
   "outputs": [],
   "source": []
  },
  {
   "cell_type": "code",
   "execution_count": null,
   "metadata": {},
   "outputs": [],
   "source": []
  },
  {
   "cell_type": "code",
   "execution_count": null,
   "metadata": {},
   "outputs": [],
   "source": []
  },
  {
   "cell_type": "code",
   "execution_count": null,
   "metadata": {},
   "outputs": [],
   "source": []
  },
  {
   "cell_type": "code",
   "execution_count": null,
   "metadata": {},
   "outputs": [],
   "source": []
  },
  {
   "cell_type": "code",
   "execution_count": null,
   "metadata": {},
   "outputs": [],
   "source": []
  },
  {
   "cell_type": "code",
   "execution_count": null,
   "metadata": {},
   "outputs": [],
   "source": []
  },
  {
   "cell_type": "code",
   "execution_count": null,
   "metadata": {},
   "outputs": [],
   "source": []
  },
  {
   "cell_type": "code",
   "execution_count": null,
   "metadata": {},
   "outputs": [],
   "source": []
  },
  {
   "cell_type": "code",
   "execution_count": null,
   "metadata": {},
   "outputs": [],
   "source": []
  }
 ],
 "metadata": {
  "kernelspec": {
   "display_name": "Python 3",
   "language": "python",
   "name": "python3"
  },
  "language_info": {
   "codemirror_mode": {
    "name": "ipython",
    "version": 3
   },
   "file_extension": ".py",
   "mimetype": "text/x-python",
   "name": "python",
   "nbconvert_exporter": "python",
   "pygments_lexer": "ipython3",
   "version": "3.6.5"
  }
 },
 "nbformat": 4,
 "nbformat_minor": 2
}
