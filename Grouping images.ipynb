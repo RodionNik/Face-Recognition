{
 "cells": [
  {
   "cell_type": "code",
   "execution_count": 1,
   "metadata": {},
   "outputs": [],
   "source": [
    "import cv2\n",
    "from func_face import face_detect_dl\n",
    "import face_recognition\n",
    "import pickle\n",
    "from imutils import paths\n",
    "from PIL import Image\n",
    "import datetime\n",
    "import os\n",
    "import pandas as pd\n",
    "\n",
    "from datetime import datetime\n",
    "import time\n",
    "import math\n",
    "from functools import reduce\n",
    "import operator"
   ]
  },
  {
   "cell_type": "code",
   "execution_count": 6,
   "metadata": {},
   "outputs": [
    {
     "data": {
      "text/plain": [
       "268"
      ]
     },
     "execution_count": 6,
     "metadata": {},
     "output_type": "execute_result"
    }
   ],
   "source": [
    "from_p = r'C:\\Users\\user\\Documents\\08. Data_IN\\Camera\\camera7'\n",
    "imagePaths = list(paths.list_images(from_p))\n",
    "len(imagePaths)"
   ]
  },
  {
   "cell_type": "code",
   "execution_count": 4,
   "metadata": {},
   "outputs": [],
   "source": [
    "def diff(img1, img2):\n",
    "    h1 = image1.histogram()\n",
    "    h2 = image2.histogram()    \n",
    "    rms = math.sqrt(reduce(operator.add,map(lambda a,b: (a-b)**2, h1, h2))/len(h1))\n",
    "    return rms   "
   ]
  },
  {
   "cell_type": "code",
   "execution_count": 7,
   "metadata": {},
   "outputs": [],
   "source": [
    "counter = 0\n",
    "for i in range(len(imagePaths) - 1):\n",
    "    image1 = Image.open(imagePaths[i])\n",
    "    image2 = Image.open(imagePaths[i+1])\n",
    "    \n",
    "    f1 = os.path.basename(imagePaths[i])\n",
    "    f2 = os.path.basename(imagePaths[i+1])\n",
    "    y1,M1,d1,h1,m1,s1 = f1[:-4].split('_')[:-1]\n",
    "    y2,M2,d2,h2,m2,s2 = f2[:-4].split('_')[:-1]\n",
    "    dt1 = datetime(int(y1),int(M1),int(d1),int(h1),int(m1),int(s1))\n",
    "    dt2 = datetime(int(y2),int(M2),int(d2),int(h2),int(m2),int(s2))\n",
    "    if dt2>dt1:\n",
    "        delta = dt2 - dt1\n",
    "    else:\n",
    "        delta = dt1 - dt2  \n",
    "    \n",
    "    path = r'C:\\Users\\user\\Documents\\08. Data_IN\\Camera\\test' + '\\pack'+str(counter)\n",
    "    if not os.path.exists(path):\n",
    "        os.mkdir(path)\n",
    "    image1.save(path+'\\\\' + f1,'JPEG')\n",
    "\n",
    "    threshold = diff(image1, image2)\n",
    "    \n",
    "    if (threshold >= 200) | (delta.seconds > 1):\n",
    "        counter = counter + 1"
   ]
  },
  {
   "cell_type": "code",
   "execution_count": 101,
   "metadata": {},
   "outputs": [],
   "source": [
    " "
   ]
  },
  {
   "cell_type": "code",
   "execution_count": null,
   "metadata": {},
   "outputs": [],
   "source": [
    "image1 = Image.open(r'C:\\Users\\user\\Documents\\08. Data_IN\\Camera\\test\\pack2\\file17.jpg')\n",
    "image2 = Image.open(r'C:\\Users\\user\\Documents\\08. Data_IN\\Camera\\test\\pack2\\file18.jpg')"
   ]
  },
  {
   "cell_type": "code",
   "execution_count": null,
   "metadata": {},
   "outputs": [],
   "source": []
  },
  {
   "cell_type": "code",
   "execution_count": null,
   "metadata": {},
   "outputs": [],
   "source": []
  },
  {
   "cell_type": "code",
   "execution_count": null,
   "metadata": {},
   "outputs": [],
   "source": []
  },
  {
   "cell_type": "code",
   "execution_count": null,
   "metadata": {},
   "outputs": [],
   "source": []
  },
  {
   "cell_type": "code",
   "execution_count": null,
   "metadata": {},
   "outputs": [],
   "source": []
  },
  {
   "cell_type": "code",
   "execution_count": null,
   "metadata": {},
   "outputs": [],
   "source": []
  },
  {
   "cell_type": "code",
   "execution_count": null,
   "metadata": {},
   "outputs": [],
   "source": []
  },
  {
   "cell_type": "code",
   "execution_count": null,
   "metadata": {},
   "outputs": [],
   "source": []
  },
  {
   "cell_type": "code",
   "execution_count": null,
   "metadata": {},
   "outputs": [],
   "source": []
  },
  {
   "cell_type": "code",
   "execution_count": null,
   "metadata": {},
   "outputs": [],
   "source": [
    "  print(rms)\n",
    "        im1 = cv2.imread(imagePaths[i])\n",
    "        im2 = cv2.imread(imagePaths[i+1])\n",
    "        \n",
    "        rgb1 = cv2.cvtColor(im1, cv2.COLOR_BGR2RGB)\n",
    "        rgb2 = cv2.cvtColor(im2, cv2.COLOR_BGR2RGB)\n",
    "        cv2.imshow(str(rms),rgb1)\n",
    "        cv2.imshow(str(rms),rgb2)\n",
    "        \n",
    "        key = cv2.waitKey(0) \n",
    "        cv2.destroyAllWindows()"
   ]
  }
 ],
 "metadata": {
  "kernelspec": {
   "display_name": "Python 3",
   "language": "python",
   "name": "python3"
  },
  "language_info": {
   "codemirror_mode": {
    "name": "ipython",
    "version": 3
   },
   "file_extension": ".py",
   "mimetype": "text/x-python",
   "name": "python",
   "nbconvert_exporter": "python",
   "pygments_lexer": "ipython3",
   "version": "3.6.5"
  }
 },
 "nbformat": 4,
 "nbformat_minor": 2
}
